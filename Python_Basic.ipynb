{
 "cells": [
  {
   "cell_type": "code",
   "execution_count": 7,
   "metadata": {},
   "outputs": [
    {
     "name": "stdout",
     "output_type": "stream",
     "text": [
      "Hello World\n"
     ]
    }
   ],
   "source": [
    "print(\"Hello World\")"
   ]
  },
  {
   "cell_type": "code",
   "execution_count": 34,
   "metadata": {},
   "outputs": [
    {
     "name": "stdout",
     "output_type": "stream",
     "text": [
      "<class 'float'> <class 'bool'> <class 'str'> <class 'str'>\n"
     ]
    }
   ],
   "source": [
    "'''python data types'''\n",
    "a = 1.3\n",
    "b = True\n",
    "c = \"my supervisor is Rainer\"\n",
    "d = 'my supervisor is Rainer'\n",
    "print(type(a),type(b),type(c), type(d))"
   ]
  },
  {
   "cell_type": "code",
   "execution_count": 70,
   "metadata": {},
   "outputs": [
    {
     "name": "stdout",
     "output_type": "stream",
     "text": [
      "2 (2, False, 'Danqing')\n",
      "5 3\n",
      "(2, 1.2, 4, True, (2, False, 'Danqing'))\n",
      "(1.2, True)\n",
      "[2, 5, 'Coronvirus']\n"
     ]
    }
   ],
   "source": [
    "'''sequence: tupel & list'''\n",
    "# tupel and list can both access by index. [0 to (len()-1)] or [-1 to -len()]\n",
    "# tupel value can not be changed\n",
    "\n",
    "s1 = (2, 1.2, 4, True, (2, False, \"Danqing\")) # s1 is a tupel\n",
    "# s1[1] = 2,12 Error, can not change the value of a tupel, does not support assignment\n",
    "print(s1[0], s1[4]) # access value by their index\n",
    "\n",
    "s2 = [2, 5, \"Virus\"]\n",
    "s2[2] = \"Coronvirus\" # can assign new value\n",
    "print(s2[-2], len(s2)) # access by their index, len() function\n",
    "\n",
    "# other method to read the value from sequence\n",
    "print(s1[:5]) # [0,5) exclude s1[5]\n",
    "print(s1[1:5:2])\n",
    "print(s2[:3])\n"
   ]
  },
  {
   "cell_type": "code",
   "execution_count": 31,
   "metadata": {},
   "outputs": [
    {
     "name": "stdout",
     "output_type": "stream",
     "text": [
      "{1: 'one', 2: 'Zwei', 'Drei': 'three', 4: 'four'} length: 4 Zwei\n",
      "{1: 'one', 2: 'two', 3: 'three'}\n",
      "´d3:  {'oranges': 3, 'pears': 4, 'grapes': 5, 'lemons': 6}\n",
      "d4 is copy from d3: {'oranges': 3, 'pears': 4, 'grapes': 5, 'lemons': 6}\n",
      "not a valid key\n",
      "d4 after clear() {}\n"
     ]
    }
   ],
   "source": [
    "# Dictionaries\n",
    "d = {1: \"one\", 2: \"two\", \"Drei\": \"three\", 2:\"Zwei\"} # a key can only appear once\n",
    "d[4] = \"four\"\n",
    "print(d, \"length:\", len(d), d[2]) # access a value using the key\n",
    "\n",
    "s1 = (1, 2, 3, 4)\n",
    "s2 = [\"one\", \"two\", \"three\"]\n",
    "dict2 = dict(zip(s1, s2)) # dictionaries can be easily created by zipping two sequences\n",
    "print(dict2)\n",
    "\n",
    "# Operations on dictionarie\n",
    "\"Zwei\" in d # find by key -> ouput True or False\n",
    "\n",
    "d.keys()\n",
    "d.values()\n",
    "\n",
    "# combining two dictionaries\n",
    "d3 = {'apples': 1, 'oranges': 3, 'pears': 2}\n",
    "ud = {'pears': 4, 'grapes': 5, 'lemons': 6}\n",
    "d3.update(ud) # add or overwrite; a bit like list's extend\n",
    "d3\n",
    "\n",
    "del d3[\"apples\"]\n",
    "print(\"´d3: \", d3)\n",
    "\n",
    "d4 = d3.copy()\n",
    "print(\"d4 is copy from d3:\", d4)\n",
    "\n",
    "print(d4.get(\"strawberry\",\"not a valid key\"))\n",
    "d4.clear()\n",
    "print(\"d4 after clear()\", d4)"
   ]
  },
  {
   "cell_type": "code",
   "execution_count": 10,
   "metadata": {},
   "outputs": [
    {
     "name": "stdout",
     "output_type": "stream",
     "text": [
      "{42, 46, 21, 'hello', (2.3, 4.3)}\n",
      "{46, 21, 'hello', (2.3, 4.3)}\n",
      "{21, 'hello', (2.3, 4.3)}\n",
      "set()\n",
      "{'l', 'w', 'e', 'o', 'h', ' '}\n",
      "{'r', 'l', 'w', 'a', 'e', 'o', 'h', 't', 'd', ' '}\n",
      "{'r', 'a', 't', 'd'}\n"
     ]
    },
    {
     "data": {
      "text/plain": [
       "frozenset({'everything', 'life', 'universe'})"
      ]
     },
     "execution_count": 10,
     "metadata": {},
     "output_type": "execute_result"
    }
   ],
   "source": [
    "# Sets\n",
    "# just like lists but do not allow duplicate values\n",
    "mind = set([42, 42, 46, 21, (2.3, 4.3)])\n",
    "mind.add(\"hello\")\n",
    "print(mind)\n",
    "\n",
    "# remove element from set\n",
    "mind.pop()\n",
    "print(mind)\n",
    "mind.remove(46)\n",
    "print(mind)\n",
    "mind.clear()\n",
    "print(mind)\n",
    "\n",
    "# set operations\n",
    "s1 = set(\"hallo welt\")\n",
    "s2 = set(\"hello world\")\n",
    "print(s1.intersection(s2)) # intersection\n",
    "print(s1.union(s2)) # union\n",
    "print(s1.symmetric_difference(s2)) # in either one set, but not in both\n",
    "print(s1.difference(s2)) # in s1, but not in s2\n",
    "\n",
    "# frozenset\n",
    "# immutable version of set\n",
    "frozen = frozenset(['life','universe','everything'])\n",
    "frozen"
   ]
  },
  {
   "cell_type": "code",
   "execution_count": 51,
   "metadata": {},
   "outputs": [
    {
     "name": "stdout",
     "output_type": "stream",
     "text": [
      "a:  256 ;  b:  256.0\n",
      "True  ;  False\n",
      "repeat thisrepeat thisrepeat this\n",
      "65536\n",
      "89.28571428571429\n",
      "33333333333333333333\n",
      "cat dog\n"
     ]
    }
   ],
   "source": [
    "# Operators\n",
    "a = 2**8 # powers\n",
    "b = float(a) # type conversion\n",
    "s1 = [3,7,2]\n",
    "print (\"a: \", a, \";  b: \",b)\n",
    "\n",
    "-3 % 7 # 7+(-3)\n",
    "\n",
    "# Identity\n",
    "# immutable data type\n",
    "print([1,2]==[1,2], \" ; \", [1,2] is [1,2])\n",
    "\n",
    "x = 'repeat this'\n",
    "x *= 3\n",
    "print(x)\n",
    "\n",
    "# Boolean\n",
    "# or, and, not\n",
    "\n",
    "# Exercise\n",
    "# 1\n",
    "print(2**2**2**2)\n",
    "# 2\n",
    "print(((3+2)**4)/7)\n",
    "# 3\n",
    "x = int(20*'1') + int(20*'2')\n",
    "print(x)\n",
    "r1 = 1 and \"cat\" or \"dog\" # return the first true value\n",
    "r2 = 0 and \"cat\" or \"dog\"\n",
    "print(r1, r2)"
   ]
  },
  {
   "cell_type": "code",
   "execution_count": 70,
   "metadata": {
    "scrolled": true
   },
   "outputs": [
    {
     "name": "stdout",
     "output_type": "stream",
     "text": [
      "2\n",
      "absolute of -10;  10\n",
      "square root of 10:  3.1622776601683795\n",
      "1.667\n"
     ]
    }
   ],
   "source": [
    "# Basic math\n",
    "import math\n",
    "a = 10 \n",
    "b = 25\n",
    "print(b//a) # floor division\n",
    "print(\"absolute of -10; \", abs(-10))\n",
    "print(\"square root of 10: \",math.sqrt(10)) # square root\n",
    "print(round(0.5/0.3, 3)) # round() returns a rounded version of the specific number, with the specific number of decimals"
   ]
  },
  {
   "cell_type": "code",
   "execution_count": 95,
   "metadata": {},
   "outputs": [
    {
     "name": "stdout",
     "output_type": "stream",
     "text": [
      "1000\n",
      "800\n",
      "600\n",
      "1 : 1\n",
      "2 : 4\n",
      "3 : 9\n",
      "4 : 16\n",
      "5 : 25\n",
      "the  0 th element is : (1, 1)\n",
      "the  1 th element is : (2, 4)\n",
      "the  2 th element is : (3, 9)\n",
      "the  3 th element is : (4, 16)\n",
      "the  4 th element is : (5, 25)\n",
      "1  2  3  \n",
      "2  4  6  \n",
      "3  6  9  \n"
     ]
    }
   ],
   "source": [
    "# Control flow\n",
    "for i in range(1000, 401, -200):\n",
    "    print(i)\n",
    "    \n",
    "l = [(1, 1), (2, 4), (3, 9), (4, 16), (5, 25)]\n",
    "for x, xsquared in l:\n",
    "    print(x, ':', xsquared)\n",
    "\n",
    "a = 0 \n",
    "while a < 5:\n",
    "    print(\"the \",a, \"th element is :\", l[a])\n",
    "    a+=1\n",
    "    \n",
    "# Exercise\n",
    "# 1\n",
    "for i in range(1,4):\n",
    "    for j in range(1,4):\n",
    "        print(i*j,\" \", end='')\n",
    "    print()    \n"
   ]
  },
  {
   "cell_type": "code",
   "execution_count": 1,
   "metadata": {},
   "outputs": [
    {
     "name": "stdout",
     "output_type": "stream",
     "text": [
      "input is here <bound method Kernel.raw_input of <ipykernel.ipkernel.IPythonKernel object at 0x000001F6F6693828>>\n",
      "input my name:Danqing\n",
      "you are right!\n"
     ]
    }
   ],
   "source": [
    "# Exercise\n",
    "# a user guess your name, they only have 3 chance before the program quits\n",
    "name = \"Danqing\"\n",
    "a = 0\n",
    "print(\"input is here\",input)\n",
    "while a < 3:\n",
    "    guess = input(\"input my name:\")\n",
    "    if guess == name:\n",
    "        print(\"you are right!\")\n",
    "        break\n",
    "    else:\n",
    "        print(\"wrong! you have\", 2-a, \" chances\")\n",
    "        a += 1\n",
    "        print(\"you lost your chance\")\n",
    "        \n",
    "x = lambda a : a+10\n",
    "print(x(5))"
   ]
  },
  {
   "cell_type": "code",
   "execution_count": 10,
   "metadata": {},
   "outputs": [
    {
     "name": "stdout",
     "output_type": "stream",
     "text": [
      "this is a \n"
     ]
    }
   ],
   "source": [
    "# open a file\n",
    "with open('test.txt', 'r') as txt: # the opened file will close itself after reading each line\n",
    "    print(txt.read(10))\n",
    "\n",
    "# standard file objects"
   ]
  },
  {
   "cell_type": "code",
   "execution_count": 19,
   "metadata": {},
   "outputs": [
    {
     "name": "stdout",
     "output_type": "stream",
     "text": [
      "I will\n",
      " t 12\n",
      "I will add this sentence to the test filethis is the second sentence of this filethis is the second sentence of this filethis is the second sentence of this filethis is the second sentence of this filethis is the second sentence of this filethis is the second sentence of this file\n",
      "['test.txt']\n"
     ]
    }
   ],
   "source": [
    "# Files\n",
    "f = open('test.txt','r')\n",
    "f.tell() # current position\n",
    "print(f.read(6))\n",
    "f.tell()\n",
    "f.seek(10) # change the current position\n",
    "print(f.read(2),f.tell())\n",
    "\n",
    "sentence = \"this is the second sentence of this file\"\n",
    "for line in open(\"test.txt\",'r'):\n",
    "    print(line)\n",
    "    \n",
    "import os\n",
    "import glob\n",
    "print(glob.glob('*.txt')) # find file using glob\n"
   ]
  },
  {
   "cell_type": "code",
   "execution_count": 29,
   "metadata": {},
   "outputs": [
    {
     "name": "stdout",
     "output_type": "stream",
     "text": [
      "True\n"
     ]
    }
   ],
   "source": [
    "# Text\n",
    "# get the ASCII code of a character\n",
    "ord('/')\n",
    "# to get the character encoded by ASCII code\n",
    "chr(104)\n",
    "s = \"ashd3\"\n",
    "print(s.isalnum()) # if all the characters are alphanumeric"
   ]
  }
 ],
 "metadata": {
  "kernelspec": {
   "display_name": "Python 3",
   "language": "python",
   "name": "python3"
  },
  "language_info": {
   "codemirror_mode": {
    "name": "ipython",
    "version": 3
   },
   "file_extension": ".py",
   "mimetype": "text/x-python",
   "name": "python",
   "nbconvert_exporter": "python",
   "pygments_lexer": "ipython3",
   "version": "3.6.2"
  }
 },
 "nbformat": 4,
 "nbformat_minor": 4
}
